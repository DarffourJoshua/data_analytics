{
 "cells": [
  {
   "cell_type": "code",
   "execution_count": 1,
   "id": "b66e003d-fec4-4ecc-8e3f-02f738ee5818",
   "metadata": {},
   "outputs": [],
   "source": [
    "import pandas as pd\n",
    "import numpy as np"
   ]
  },
  {
   "cell_type": "code",
   "execution_count": null,
   "id": "c0268c87-7ab5-464e-8e63-931c67e786ce",
   "metadata": {},
   "outputs": [],
   "source": [
    "xValues = [MALE, MALE, MALE, FEMALE, MALE, FEMALE, MALE, FEMALE]\n",
    "yValues = [26, 60, 45, 62, 23, 36, 35, 36]"
   ]
  }
 ],
 "metadata": {
  "kernelspec": {
   "display_name": "Python 3 (ipykernel)",
   "language": "python",
   "name": "python3"
  },
  "language_info": {
   "codemirror_mode": {
    "name": "ipython",
    "version": 3
   },
   "file_extension": ".py",
   "mimetype": "text/x-python",
   "name": "python",
   "nbconvert_exporter": "python",
   "pygments_lexer": "ipython3",
   "version": "3.11.5"
  },
  "widgets": {
   "application/vnd.jupyter.widget-state+json": {
    "state": {},
    "version_major": 2,
    "version_minor": 0
   }
  }
 },
 "nbformat": 4,
 "nbformat_minor": 5
}
