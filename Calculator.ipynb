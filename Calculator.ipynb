{
 "cells": [
  {
   "cell_type": "code",
   "execution_count": 138,
   "id": "7eb67efa-127d-4c45-982c-44f0b6831ae8",
   "metadata": {
    "tags": []
   },
   "outputs": [],
   "source": [
    "import numpy as np\n",
    "import pandas as pd\n",
    "import pprint"
   ]
  },
  {
   "cell_type": "code",
   "execution_count": 223,
   "id": "46012ee6-9b87-452b-8d23-6018ce18f404",
   "metadata": {
    "tags": []
   },
   "outputs": [],
   "source": [
    "def calculator(list):\n",
    "    \n",
    "    if len(list) != 9: \n",
    "        raise ValueError('List must contain nine numbers ')\n",
    "    \n",
    "    myList = np.array(list)\n",
    "    reshape = np.reshape(myList, (3,3))\n",
    "    \n",
    "    ###Mean\n",
    "    maxis1 = np.mean(reshape, axis=0).tolist()\n",
    "    maxis2 = np.mean(reshape, axis=1).tolist()\n",
    "    mflat = np.mean(reshape.flatten()) \n",
    "   \n",
    "    ###Variance\n",
    "    #var=mean(abs(x–x.mean())**2)e.\n",
    "    vaxis1 = np.var(reshape, axis=0).tolist()\n",
    "    vaxis2 = np.var(reshape, axis=1).tolist()\n",
    "    vflat = np.var(reshape.flatten())\n",
    "    \n",
    "    ### Standard deviation\n",
    "    saxis1 = np.std(reshape, axis=0).tolist()\n",
    "    saxis2 = np.std(reshape, axis=1).tolist()\n",
    "    sflat = np.std(reshape.flatten())\n",
    "    \n",
    "    ### Maximum array\n",
    "    maxAxis1 = np.amax(reshape, axis=0).tolist()\n",
    "    maxAxis2 = np.amax(reshape, axis=1).tolist()\n",
    "    maxFlat = np.amax(reshape.flatten())\n",
    "    \n",
    "    ###Minimum array\n",
    "    minAxis1 = np.amin(reshape, axis=0).tolist()\n",
    "    minAxis2 = np.amin(reshape, axis=1).tolist()\n",
    "    minFlat = np.amin(reshape.flatten())\n",
    "    \n",
    "    ###Sum array\n",
    "    sAxis1 = np.sum(reshape, axis=0).tolist()\n",
    "    sAxis2 = np.sum(reshape, axis=1).tolist()\n",
    "    sFlat = np.sum(reshape.flatten())\n",
    "    \n",
    "    ##returned object\n",
    "    myDict =  {\n",
    "        \"mean\" : [maxis1, maxis2, mflat],\n",
    "        \"variance\" : [vaxis1, vaxis2, vflat],\n",
    "        \"standard deviation\" : [saxis1, saxis2, sflat],\n",
    "        \"max\" : [maxAxis1, maxAxis2, maxFlat],\n",
    "        \"min\" : [minAxis1, minAxis2, minFlat],\n",
    "        \"sum\" : [sAxis1, sAxis2, sFlat]\n",
    "    }\n",
    "    pretty = pprint.PrettyPrinter(width=30)\n",
    "    \n",
    "    return pretty.pprint(myDict)"
   ]
  },
  {
   "cell_type": "code",
   "execution_count": 224,
   "id": "f0288386-5b52-4100-a003-aa7ff358b567",
   "metadata": {
    "tags": []
   },
   "outputs": [
    {
     "name": "stdout",
     "output_type": "stream",
     "text": [
      "{'max': [[6, 7, 8],\n",
      "         [2, 5, 8],\n",
      "         8],\n",
      " 'mean': [[3.0, 4.0, 5.0],\n",
      "          [1.0, 4.0, 7.0],\n",
      "          4.0],\n",
      " 'min': [[0, 1, 2],\n",
      "         [0, 3, 6],\n",
      "         0],\n",
      " 'standard deviation': [[2.449489742783178,\n",
      "                         2.449489742783178,\n",
      "                         2.449489742783178],\n",
      "                        [0.816496580927726,\n",
      "                         0.816496580927726,\n",
      "                         0.816496580927726],\n",
      "                        2.581988897471611],\n",
      " 'sum': [[9, 12, 15],\n",
      "         [3, 12, 21],\n",
      "         36],\n",
      " 'variance': [[6.0, 6.0, 6.0],\n",
      "              [0.6666666666666666,\n",
      "               0.6666666666666666,\n",
      "               0.6666666666666666],\n",
      "              6.666666666666667]}\n"
     ]
    }
   ],
   "source": [
    "list = [0, 1, 2, 3, 4, 5, 6, 7, 8]\n",
    "item = calculator(list)"
   ]
  }
 ],
 "metadata": {
  "kernelspec": {
   "display_name": "Python 3 (ipykernel)",
   "language": "python",
   "name": "python3"
  },
  "language_info": {
   "codemirror_mode": {
    "name": "ipython",
    "version": 3
   },
   "file_extension": ".py",
   "mimetype": "text/x-python",
   "name": "python",
   "nbconvert_exporter": "python",
   "pygments_lexer": "ipython3",
   "version": "3.11.5"
  }
 },
 "nbformat": 4,
 "nbformat_minor": 5
}
